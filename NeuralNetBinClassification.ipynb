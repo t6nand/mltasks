{
  "nbformat": 4,
  "nbformat_minor": 0,
  "metadata": {
    "colab": {
      "name": "NeuralNetBinClassification.ipynb",
      "version": "0.3.2",
      "provenance": [],
      "collapsed_sections": [],
      "include_colab_link": true
    },
    "kernelspec": {
      "name": "python3",
      "display_name": "Python 3"
    }
  },
  "cells": [
    {
      "cell_type": "markdown",
      "metadata": {
        "id": "view-in-github",
        "colab_type": "text"
      },
      "source": [
        "<a href=\"https://colab.research.google.com/github/t6nand/mltasks/blob/master/NeuralNetBinClassification.ipynb\" target=\"_parent\"><img src=\"https://colab.research.google.com/assets/colab-badge.svg\" alt=\"Open In Colab\"/></a>"
      ]
    },
    {
      "metadata": {
        "id": "pqjjsjmZJ15P",
        "colab_type": "code",
        "outputId": "e918ada5-e02c-4ffe-d217-54b2fcc7fd23",
        "colab": {
          "base_uri": "https://localhost:8080/",
          "height": 694
        }
      },
      "cell_type": "code",
      "source": [
        "import numpy as np\n",
        "import matplotlib.pyplot as plt\n",
        "from dataset2_logreg import DataSet  \n",
        "\n",
        "#get and plot the data\n",
        "y_D,x_D = DataSet.get_data()\n",
        "DataSet.plot_data()\n",
        "plt.show()\n",
        "\n",
        "# Cross Entropy cost function\n",
        "def ce_cost(x_arr, y_arr, predict_f):    \n",
        "  y_eq_0 = (y_arr==0).nonzero()[1]\n",
        "  y_eq_1 = (y_arr==1).nonzero()[1]\n",
        "  a = predict_f(x_arr)\n",
        "  cost = np.sum( -np.log2(a[0][y_eq_1])) + np.sum( -np.log2(1-a[0][y_eq_0]))\n",
        "  return cost  \n",
        "\n",
        "#cost L2\n",
        "def l2_cost(x_D, y_D, predict_f):\n",
        "    y_predicted = predict_f(x_D)\n",
        "    return np.sum(0.5*(y_predicted-y_D)**2)\n",
        "  \n",
        "# Activation Functions\n",
        "\n",
        "def indentity(x):\n",
        "    return x\n",
        "  \n",
        "def d_indentity(x):\n",
        "    return np.ones(x.shape)\n",
        "  \n",
        "def relu(x):\n",
        "    return np.maximum(x, np.zeros(x.shape))\n",
        "  \n",
        "def d_relu(x):\n",
        "    return (x>0).astype(float)\n",
        "  \n",
        "def sigmoid(x):\n",
        "    return 1/(1+np.exp(-x))\n",
        "  \n",
        "def d_sigmoid(x):\n",
        "    return sigmoid(x) * (1-sigmoid(x))\n",
        "    \n",
        "class NNet:\n",
        "    \n",
        "    # Initilaizations\n",
        "    def __init__(self, layers, act_hid, d_act_hid, act_out, d_act_out):\n",
        "        self.layers = layers\n",
        "        self.L = len(layers) - 1\n",
        "        self.act_hid = act_hid\n",
        "        self.d_act_hid = d_act_hid        \n",
        "        self.act_out = act_out\n",
        "        self.d_act_out = d_act_out        \n",
        "        self.W, self.b = self.init_Wb()\n",
        "        \n",
        "    # Initializing model parameters     \n",
        "    def init_Wb(self):\n",
        "        W, b = {}, {}\n",
        "        mu = 0\n",
        "        sigma = 1\n",
        "        for i in range(1,self.L+1):\n",
        "            W[i] = np.random.normal(mu,sigma,(self.layers[i],self.layers[i-1]))\n",
        "            b[i] = np.random.normal(mu,sigma,(self.layers[i],1))\n",
        "        return W, b\n",
        "    \n",
        "    # Forward Propogation\n",
        "    def fp(self, x):\n",
        "        a, z = {}, {}\n",
        "        a[0] = x\n",
        "        L = self.L\n",
        "        for i in range(1,L):\n",
        "            z[i] = self.W[i].dot(a[i-1]) + self.b[i]\n",
        "            a[i] = self.act_hid(z[i])    \n",
        "            \n",
        "        z[L] = self.W[L].dot(a[L-1]) + self.b[L]    \n",
        "        a[L] = self.act_out(z[L]) \n",
        "        return a,z \n",
        "      \n",
        "    # Back Propogation \n",
        "    def bp(self, x, y):\n",
        "      a,z = self.fp(x)\n",
        "      L = self.L\n",
        "\n",
        "      dCdz = { L: (a[L]-y)/a[L]/(1-a[L])*self.d_act_out(z[L]) }\n",
        "      for l in range(L-1,0,-1):\n",
        "          dCdz[l] = self.W[l+1].T.dot(dCdz[l+1]) * self.d_act_hid(z[l])\n",
        "\n",
        "      db = {}\n",
        "      for l in range(1,L+1):\n",
        "          db[l] = np.sum(dCdz[l], axis=1).reshape((-1,1))\n",
        "\n",
        "      dW = {}\n",
        "      for l in range(1,L+1):\n",
        "          dW[l] = dCdz[l].dot(a[l-1].T)\n",
        "      return dW, db\n",
        "    \n",
        "    # Gradient Descent Learning\n",
        "    def gd_learn(self, iter_num, l_rate, x, y):\n",
        "      for i in range(iter_num):\n",
        "        dW, db = self.bp(x, y)  \n",
        "        for l in range(1, self.L+1):\n",
        "            self.W[l] = self.W[l] - l_rate*dW[l]\n",
        "            self.b[l] = self.b[l] - l_rate*db[l] \n",
        "      return 0\n",
        "   \n",
        "    # Gradient Descent Regularised Learning\n",
        "    def gd_learn_reg(self, iter_num, l_rate, x, y, lbd=0):\n",
        "      for i in range(iter_num):\n",
        "        dW, db = self.bp(x, y)  \n",
        "        for l in range(1, self.L+1):\n",
        "            self.W[l] = self.W[l] - l_rate*(dW[l] + 2*lbd*self.W[l])\n",
        "            self.b[l] = self.b[l] - l_rate*db[l] \n",
        "      return 0   \n",
        "    \n",
        "    # Provides outoput from neuron at the output layer    \n",
        "    def output(self, x):\n",
        "        a_out = None\n",
        "        a, _ = self.fp(x)\n",
        "        a_out = a[self.L]\n",
        "        return a_out \n",
        "      \n",
        "# Prepare & Train the non regularised model \n",
        "reg_flag = True\n",
        "lbd = 0.07\n",
        "NN = NNet((2,6,6,1), sigmoid, d_sigmoid, sigmoid, d_sigmoid)  \n",
        "\n",
        "if reg_flag:\n",
        "  NN.gd_learn_reg(50000, 0.05, x_D, y_D, lbd)\n",
        "else:\n",
        "  NN.gd_learn(50000, 0.01, x_D, y_D)\n",
        "\n",
        "#plot and compute cost\n",
        "DataSet.plot_decision_boundary(NN.output)\n",
        "plt.show()\n",
        "print('Cost:%f' % ce_cost(x_D, y_D, NN.output)) "
      ],
      "execution_count": 17,
      "outputs": [
        {
          "output_type": "display_data",
          "data": {
            "image/png": "[encoded data removed]",
            "text/plain": [
              "<matplotlib.figure.Figure at 0x7f9d9d17cf98>"
            ]
          },
          "metadata": {
            "tags": []
          }
        },
        {
          "output_type": "display_data",
          "data": {
            "image/png": "[encoded data removed]",
            "text/plain": [
              "<matplotlib.figure.Figure at 0x7f9d9cdb4f98>"
            ]
          },
          "metadata": {
            "tags": []
          }
        },
        {
          "output_type": "stream",
          "text": [
            "Cost:31.415906\n"
          ],
          "name": "stdout"
        }
      ]
    }
  ]
}